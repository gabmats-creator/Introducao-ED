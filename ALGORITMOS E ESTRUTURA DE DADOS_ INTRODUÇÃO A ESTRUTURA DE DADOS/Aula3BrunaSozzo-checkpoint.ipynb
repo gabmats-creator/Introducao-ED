{
 "cells": [
  {
   "cell_type": "code",
   "execution_count": 3,
   "id": "86c5c416",
   "metadata": {},
   "outputs": [
    {
     "name": "stdout",
     "output_type": "stream",
     "text": [
      "Insira um número:-6\n",
      "Insira um número:-9\n",
      "Insira um número:-35\n",
      "Insira um número:7\n",
      "Insira um número:8\n",
      "Insira um número:9\n",
      "Insira um número:2\n",
      "Insira um número:0\n",
      "Foram inseridos 4 números positivos e 3 números negativos\n",
      "Fim da execução\n"
     ]
    }
   ],
   "source": [
    "#Atividade 1 aula 3\n",
    "\n",
    "contpos = 0\n",
    "contneg = 0\n",
    "while True:\n",
    "    n = int(input('Insira um número:'))\n",
    "    if n <0:\n",
    "        contneg += 1\n",
    "    elif n == 0:\n",
    "        break\n",
    "    else:\n",
    "        contpos += 1\n",
    "print(f'Foram inseridos {contpos} números positivos e {contneg} números negativos')\n",
    "print('Fim da execução')"
   ]
  },
  {
   "cell_type": "code",
   "execution_count": 7,
   "id": "eb231a1d",
   "metadata": {},
   "outputs": [
    {
     "name": "stdout",
     "output_type": "stream",
     "text": [
      "Insira o número mínimo: 3\n",
      "Insira o número máximo: 30\n",
      "Os múltiplos de 5 dentro desse intervalo são: \n",
      "Os múltiplos de 5 dentro desse intervalo são: \n",
      "Os múltiplos de 5 dentro desse intervalo são: \n",
      "5 Os múltiplos de 5 dentro desse intervalo são: \n",
      "Os múltiplos de 5 dentro desse intervalo são: \n",
      "Os múltiplos de 5 dentro desse intervalo são: \n",
      "Os múltiplos de 5 dentro desse intervalo são: \n",
      "Os múltiplos de 5 dentro desse intervalo são: \n",
      "10 Os múltiplos de 5 dentro desse intervalo são: \n",
      "Os múltiplos de 5 dentro desse intervalo são: \n",
      "Os múltiplos de 5 dentro desse intervalo são: \n",
      "Os múltiplos de 5 dentro desse intervalo são: \n",
      "Os múltiplos de 5 dentro desse intervalo são: \n",
      "15 Os múltiplos de 5 dentro desse intervalo são: \n",
      "Os múltiplos de 5 dentro desse intervalo são: \n",
      "Os múltiplos de 5 dentro desse intervalo são: \n",
      "Os múltiplos de 5 dentro desse intervalo são: \n",
      "Os múltiplos de 5 dentro desse intervalo são: \n",
      "20 Os múltiplos de 5 dentro desse intervalo são: \n",
      "Os múltiplos de 5 dentro desse intervalo são: \n",
      "Os múltiplos de 5 dentro desse intervalo são: \n",
      "Os múltiplos de 5 dentro desse intervalo são: \n",
      "Os múltiplos de 5 dentro desse intervalo são: \n",
      "25 Os múltiplos de 5 dentro desse intervalo são: \n",
      "Os múltiplos de 5 dentro desse intervalo são: \n",
      "Os múltiplos de 5 dentro desse intervalo são: \n",
      "Os múltiplos de 5 dentro desse intervalo são: \n",
      "Os múltiplos de 5 dentro desse intervalo são: \n",
      "30 "
     ]
    }
   ],
   "source": [
    "#Atividade 2 aula 3\n",
    "\n",
    "min = int(input('Insira o número mínimo: '))\n",
    "max = int(input('Insira o número máximo: '))\n",
    "if min > max:\n",
    "    print('O valor máximo é menor que o valor mínimo, os valores serão invertidos')\n",
    "    min, max = max, min\n",
    "for i in range(min, max+1):\n",
    "    if i%5 == 0:\n",
    "        print(i, end=' ')\n",
    "    \n",
    "    "
   ]
  },
  {
   "cell_type": "code",
   "execution_count": null,
   "id": "ac437cd9",
   "metadata": {},
   "outputs": [],
   "source": []
  }
 ],
 "metadata": {
  "kernelspec": {
   "display_name": "Python 3 (ipykernel)",
   "language": "python",
   "name": "python3"
  },
  "language_info": {
   "codemirror_mode": {
    "name": "ipython",
    "version": 3
   },
   "file_extension": ".py",
   "mimetype": "text/x-python",
   "name": "python",
   "nbconvert_exporter": "python",
   "pygments_lexer": "ipython3",
   "version": "3.10.9"
  }
 },
 "nbformat": 4,
 "nbformat_minor": 5
}
