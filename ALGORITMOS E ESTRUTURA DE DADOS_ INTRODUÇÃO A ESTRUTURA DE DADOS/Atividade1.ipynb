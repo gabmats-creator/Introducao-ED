{
 "cells": [
  {
   "cell_type": "code",
   "execution_count": 11,
   "id": "4fb7f13e",
   "metadata": {},
   "outputs": [
    {
     "name": "stdout",
     "output_type": "stream",
     "text": [
      "2427.0\n"
     ]
    }
   ],
   "source": [
    "#Exercicio 1\n",
    "salario = 1500\n",
    "vendas = 15450\n",
    "comissao = vendas * 0.06\n",
    "faturamento = comissao + salario\n",
    "print(faturamento)"
   ]
  },
  {
   "cell_type": "code",
   "execution_count": 17,
   "id": "057d4181",
   "metadata": {},
   "outputs": [
    {
     "name": "stdout",
     "output_type": "stream",
     "text": [
      "Digite o valor total de vendas: 15450\n",
      "2427.0\n"
     ]
    }
   ],
   "source": [
    "#Exercicio 2\n",
    "salario = 1500\n",
    "vendas = float(input('Digite o valor total de vendas: '))\n",
    "comissao = vendas * 0.06\n",
    "faturamento = comissao + salario\n",
    "print(faturamento)"
   ]
  },
  {
   "cell_type": "code",
   "execution_count": 30,
   "id": "20423896",
   "metadata": {},
   "outputs": [
    {
     "name": "stdout",
     "output_type": "stream",
     "text": [
      "18.0\n",
      "<class 'float'>\n",
      "<class 'int'>\n",
      "<class 'float'>\n"
     ]
    }
   ],
   "source": [
    "#Exercicio 3\n",
    "x, y = 0.0 , 18\n",
    "z = x + y\n",
    "print(z)\n",
    "print(type(x))\n",
    "print(type(y))\n",
    "print(type(z))"
   ]
  },
  {
   "cell_type": "code",
   "execution_count": 22,
   "id": "9e99c17b",
   "metadata": {},
   "outputs": [
    {
     "name": "stdout",
     "output_type": "stream",
     "text": [
      "36.0\n"
     ]
    }
   ],
   "source": [
    "#Exercicio 4\n",
    "base = 9\n",
    "altura = 8\n",
    "area = (base * altura)/2\n",
    "print(area)"
   ]
  },
  {
   "cell_type": "code",
   "execution_count": 21,
   "id": "c076f6b8",
   "metadata": {},
   "outputs": [
    {
     "name": "stdout",
     "output_type": "stream",
     "text": [
      "Digite o valor da base: 8\n",
      "Digite o valor da altura: 9\n",
      "A área do quadrado é 72\n"
     ]
    }
   ],
   "source": [
    "#Exercicio 5\n",
    "base = int(input('Digite o valor da base: '))\n",
    "altura = int(input('Digite o valor da altura: '))\n",
    "area = (base * altura)/2\n",
    "print(\"A área do triângulo é\" , area)"
   ]
  },
  {
   "cell_type": "code",
   "execution_count": 33,
   "id": "c383bbad",
   "metadata": {},
   "outputs": [
    {
     "name": "stdout",
     "output_type": "stream",
     "text": [
      "Digite o valor do software 1: 12\n",
      "Digite o valor do software 2: 12\n",
      "Qualquer uma das escolhas satisfará igualmente, os preços são iguais.\n"
     ]
    }
   ],
   "source": [
    "#Exercicio 1 de estruturas condicionais\n",
    "softw1 = float(input('Digite o valor do software 1: '))\n",
    "softw2 = float(input('Digite o valor do software 2: '))\n",
    "if softw1 < softw2:\n",
    "    print('A escolha mais barata é o software 1.')\n",
    "elif softw1 > softw2:\n",
    "    print('A escolha mais barata é o software 2.')\n",
    "else:\n",
    "    print('Qualquer uma das escolhas satisfará igualmente, os preços são iguais.')"
   ]
  },
  {
   "cell_type": "code",
   "execution_count": 4,
   "id": "2f7a8b55",
   "metadata": {},
   "outputs": [
    {
     "name": "stdout",
     "output_type": "stream",
     "text": [
      "Digite seu nome: Gabriel\n",
      "Digite a nota 1: 80\n",
      "Digite a nota 2: 80\n",
      "Digite a nota 3: 80\n",
      "Digite a nota 4: 80\n",
      "Digite a nota 5: 80\n"
     ]
    },
    {
     "ename": "KeyError",
     "evalue": "'nome'",
     "output_type": "error",
     "traceback": [
      "\u001b[1;31m---------------------------------------------------------------------------\u001b[0m",
      "\u001b[1;31mKeyError\u001b[0m                                  Traceback (most recent call last)",
      "Cell \u001b[1;32mIn[4], line 14\u001b[0m\n\u001b[0;32m     12\u001b[0m     \u001b[38;5;28mprint\u001b[39m(\u001b[38;5;124m'\u001b[39m\u001b[38;5;124mAluno: \u001b[39m\u001b[38;5;132;01m{nome}\u001b[39;00m\u001b[38;5;124m de exame, media: \u001b[39m\u001b[38;5;132;01m{}\u001b[39;00m\u001b[38;5;124m'\u001b[39m\u001b[38;5;241m.\u001b[39mformat(media))\n\u001b[0;32m     13\u001b[0m \u001b[38;5;28;01melse\u001b[39;00m:\n\u001b[1;32m---> 14\u001b[0m     \u001b[38;5;28mprint\u001b[39m(\u001b[38;5;124;43m'\u001b[39;49m\u001b[38;5;124;43mAluno: \u001b[39;49m\u001b[38;5;132;43;01m{nome}\u001b[39;49;00m\u001b[38;5;124;43m aprovado, media: \u001b[39;49m\u001b[38;5;132;43;01m{}\u001b[39;49;00m\u001b[38;5;124;43m'\u001b[39;49m\u001b[38;5;241;43m.\u001b[39;49m\u001b[43mformat\u001b[49m\u001b[43m(\u001b[49m\u001b[43mmedia\u001b[49m\u001b[43m)\u001b[49m)\n",
      "\u001b[1;31mKeyError\u001b[0m: 'nome'"
     ]
    }
   ],
   "source": [
    "#Exercicio 2 de estruturas condicionais\n",
    "nome = input('Digite seu nome: ')\n",
    "nota1 = float(input('Digite a nota 1: ')) * 3\n",
    "nota2 = float(input('Digite a nota 2: ')) * 2\n",
    "nota3 = float(input('Digite a nota 3: ')) * 1\n",
    "nota4 = float(input('Digite a nota 4: ')) * 2\n",
    "nota5 = float(input('Digite a nota 5: ')) * 2\n",
    "media = (nota1 + nota2 + nota3 + nota4 + nota5)/10\n",
    "if media < 30:\n",
    "    print(f'Aluno: {nome} reprovado, media: {media}')\n",
    "elif media >=30 and media<= 69:\n",
    "    print(f'Aluno: {nome} de exame, media: {media}')\n",
    "else:\n",
    "    print(f'Aluno: {nome} aprovado, media: {media}')\n"
   ]
  }
 ],
 "metadata": {
  "kernelspec": {
   "display_name": "Python 3 (ipykernel)",
   "language": "python",
   "name": "python3"
  },
  "language_info": {
   "codemirror_mode": {
    "name": "ipython",
    "version": 3
   },
   "file_extension": ".py",
   "mimetype": "text/x-python",
   "name": "python",
   "nbconvert_exporter": "python",
   "pygments_lexer": "ipython3",
   "version": "3.10.9"
  }
 },
 "nbformat": 4,
 "nbformat_minor": 5
}
