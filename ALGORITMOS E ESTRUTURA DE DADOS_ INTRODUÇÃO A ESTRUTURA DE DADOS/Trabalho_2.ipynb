{
 "cells": [
  {
   "cell_type": "markdown",
   "id": "3c2821a0",
   "metadata": {},
   "source": [
    "## Trabalho 2\n",
    "Aluno: Gabriel Matheus Aguilera Silva"
   ]
  },
  {
   "cell_type": "markdown",
   "id": "cbdcbcc1",
   "metadata": {},
   "source": [
    "### 3.2. Criação de uma classe\n",
    "\n",
    "Criando uma classe queue que possui as operações que podem ser realizadas em uma fila.\n",
    "\n",
    "A Queue suporta as seguintes operações padrão:\n",
    "\n",
    "add: Insere elemento no final da fila. (enqueue/enfileira)\n",
    "\n",
    "pop: Remova o primeiro elemento da fila. (dequeue/desinfileira)\n",
    "\n",
    "peek: Retorna o primeiro elemento da fila.\n",
    "\n",
    "size: Retorna o número total de itens na fila.\n",
    "\n",
    "isEmpty: Verifica se a fila está vazia.\n",
    "\n",
    "isFull: Verifica se a fila está cheia.\n",
    "\n",
    "Obs.: Na literatura, add e pop podem ser encontradas como enfileira(enqueue) e desenfileira(dequeue), respectivamente."
   ]
  },
  {
   "cell_type": "code",
   "execution_count": 56,
   "id": "d4d1b7e9",
   "metadata": {},
   "outputs": [
    {
     "name": "stdout",
     "output_type": "stream",
     "text": [
      "A fila atingiu sua capacidade máxima.\n",
      "1\n",
      "True\n",
      "False\n",
      "5\n",
      "1 2 3 4 5 "
     ]
    }
   ],
   "source": [
    "class Node:\n",
    "    def __init__(self, data=0, next=None):\n",
    "        self.data = data\n",
    "        self.next = next\n",
    "        \n",
    "    def __repr__(self):\n",
    "        return '%s -> %s' % (self.data, self.next)\n",
    "    \n",
    "class Fila:\n",
    "    def __init__(self, capacity):\n",
    "        self.capacity = capacity\n",
    "        self.elements = 0\n",
    "        self.head = None\n",
    "        self.tail = None\n",
    "        \n",
    "    def __repr__(self):\n",
    "        return \"[\" + str(self.head) + \"]\"\n",
    "    \n",
    "    def insert(self, new_data):\n",
    "        if self.isFull():\n",
    "            print('A fila atingiu sua capacidade máxima.')\n",
    "            return\n",
    "        \n",
    "        new_node = Node(new_data)\n",
    "        if self.head is None:\n",
    "            self.head = new_node\n",
    "            self.tail = new_node\n",
    "        else:\n",
    "            self.tail.next = new_node\n",
    "            self.tail = new_node\n",
    "        self.elements +=1\n",
    "            \n",
    "    def remove(self):\n",
    "        assert self.head != None \n",
    "        self.head = self.head.next\n",
    "        self.elements -=1\n",
    "        if self.head is None:\n",
    "            self.tail = None\n",
    "            \n",
    "    def mostrar_elementos(self):\n",
    "        current = self.head\n",
    "        while current is not None:\n",
    "            print(current.data, end=' ')\n",
    "            current = current.next\n",
    "    \n",
    "    def peek(self):\n",
    "        return self.head.data\n",
    "    \n",
    "    def size(self):\n",
    "        return self.elements\n",
    "    \n",
    "    def isEmpty(self):\n",
    "        if self.head is None and self.tail is None:\n",
    "            return True\n",
    "        return False\n",
    "    \n",
    "    def isFull(self):\n",
    "        if self.size() == self.capacity:\n",
    "            return True\n",
    "        return False\n",
    "\n",
    "fila = Fila(5)\n",
    "fila.insert(1)\n",
    "fila.insert(2)\n",
    "fila.insert(3)\n",
    "fila.insert(4)\n",
    "fila.insert(5)\n",
    "fila.insert(6)\n",
    "print(fila.peek())\n",
    "print(fila.isFull())\n",
    "print(fila.isEmpty())\n",
    "print(fila.size())\n",
    "fila.mostrar_elementos()"
   ]
  }
 ],
 "metadata": {
  "kernelspec": {
   "display_name": "Python 3 (ipykernel)",
   "language": "python",
   "name": "python3"
  },
  "language_info": {
   "codemirror_mode": {
    "name": "ipython",
    "version": 3
   },
   "file_extension": ".py",
   "mimetype": "text/x-python",
   "name": "python",
   "nbconvert_exporter": "python",
   "pygments_lexer": "ipython3",
   "version": "3.10.9"
  }
 },
 "nbformat": 4,
 "nbformat_minor": 5
}
