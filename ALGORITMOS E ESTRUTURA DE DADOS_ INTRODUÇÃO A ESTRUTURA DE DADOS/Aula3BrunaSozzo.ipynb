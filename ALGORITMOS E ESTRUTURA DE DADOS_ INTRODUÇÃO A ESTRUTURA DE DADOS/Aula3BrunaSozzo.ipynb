{
 "cells": [
  {
   "cell_type": "code",
   "execution_count": 3,
   "id": "242eb8c1",
   "metadata": {},
   "outputs": [
    {
     "name": "stdout",
     "output_type": "stream",
     "text": [
      "Insira um número:-6\n",
      "Insira um número:-9\n",
      "Insira um número:-35\n",
      "Insira um número:7\n",
      "Insira um número:8\n",
      "Insira um número:9\n",
      "Insira um número:2\n",
      "Insira um número:0\n",
      "Foram inseridos 4 números positivos e 3 números negativos\n",
      "Fim da execução\n"
     ]
    }
   ],
   "source": [
    "#Atividade 1 aula 3\n",
    "\n",
    "contpos = 0\n",
    "contneg = 0\n",
    "while True:\n",
    "    n = int(input('Insira um número:'))\n",
    "    if n <0:\n",
    "        contneg += 1\n",
    "    elif n == 0:\n",
    "        break\n",
    "    else:\n",
    "        contpos += 1\n",
    "print(f'Foram inseridos {contpos} números positivos e {contneg} números negativos')\n",
    "print('Fim da execução')"
   ]
  },
  {
   "cell_type": "code",
   "execution_count": 9,
   "id": "0ac94008",
   "metadata": {},
   "outputs": [
    {
     "name": "stdout",
     "output_type": "stream",
     "text": [
      "Insira o número mínimo: 30\n",
      "Insira o número máximo: 3\n",
      "O valor máximo é menor que o valor mínimo, os valores serão invertidos\n",
      "5 10 15 20 25 30 "
     ]
    }
   ],
   "source": [
    "#Atividade 2 aula 3\n",
    "\n",
    "min = int(input('Insira o número mínimo: '))\n",
    "max = int(input('Insira o número máximo: '))\n",
    "if min > max:\n",
    "    print('O valor máximo é menor que o valor mínimo, os valores serão invertidos')\n",
    "    min, max = max, min\n",
    "for i in range(min, max+1):\n",
    "    if i%5 == 0:\n",
    "        print(i, end=' ')\n",
    "    \n",
    "    "
   ]
  },
  {
   "cell_type": "code",
   "execution_count": 13,
   "id": "196ea9cc",
   "metadata": {},
   "outputs": [
    {
     "name": "stdout",
     "output_type": "stream",
     "text": [
      "Digite o valor de N: 6\n",
      "O fatorial de 6 é equivalente a 720\n"
     ]
    }
   ],
   "source": [
    "#Fatorial Recursivo\n",
    "\n",
    "def Fatorial(N):\n",
    "    if N<=1:\n",
    "        return 1\n",
    "    else:\n",
    "        return N* Fatorial(N-1)\n",
    "    \n",
    "x = int(input('Digite o valor de N: '))\n",
    "F = Fatorial(x)\n",
    "print(f'O fatorial de {x} é equivalente a {F}')"
   ]
  },
  {
   "cell_type": "code",
   "execution_count": 22,
   "id": "21208490",
   "metadata": {},
   "outputs": [
    {
     "name": "stdout",
     "output_type": "stream",
     "text": [
      "Digite um número inteiro: 3\n",
      "O número 3 é ímpar\n"
     ]
    }
   ],
   "source": [
    "#Exercicio 1 aula 4, funções\n",
    "n = int(input('Digite um número inteiro: '))\n",
    "def Paridade(n):\n",
    "    if n%2 == 0:\n",
    "        return f'O número {n} é par'\n",
    "    else:\n",
    "        return f'O número {n} é ímpar'\n",
    "print(Paridade(n))"
   ]
  },
  {
   "cell_type": "code",
   "execution_count": 34,
   "id": "9025d7da",
   "metadata": {},
   "outputs": [
    {
     "name": "stdout",
     "output_type": "stream",
     "text": [
      "Digite um número: 9\n",
      "0\n"
     ]
    }
   ],
   "source": [
    "#Exercício 2 aula 4, funções\n",
    "def contador(L, x):\n",
    "    cont = 0\n",
    "    for i in range(0, len(L)):\n",
    "        if x == L[i]:\n",
    "            cont +=1\n",
    "    return cont\n",
    "\n",
    "Lista = [1, 3, 3, 5, 6, 4, 3, 3, 3, 3, 3]\n",
    "x = int(input('Digite um número: '))\n",
    "print(contador(Lista, x))"
   ]
  },
  {
   "cell_type": "code",
   "execution_count": null,
   "id": "93582ed5",
   "metadata": {},
   "outputs": [],
   "source": [
    "#Algoritmo de busca binária recursiva\n",
    "def BuscaBinRec(L, N, inicio, fim)"
   ]
  }
 ],
 "metadata": {
  "kernelspec": {
   "display_name": "Python 3 (ipykernel)",
   "language": "python",
   "name": "python3"
  },
  "language_info": {
   "codemirror_mode": {
    "name": "ipython",
    "version": 3
   },
   "file_extension": ".py",
   "mimetype": "text/x-python",
   "name": "python",
   "nbconvert_exporter": "python",
   "pygments_lexer": "ipython3",
   "version": "3.10.9"
  }
 },
 "nbformat": 4,
 "nbformat_minor": 5
}
