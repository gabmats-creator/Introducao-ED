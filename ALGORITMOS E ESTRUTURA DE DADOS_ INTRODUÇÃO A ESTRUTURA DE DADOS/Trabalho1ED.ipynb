{
 "cells": [
  {
   "cell_type": "code",
   "execution_count": 35,
   "id": "aee9c1a9",
   "metadata": {},
   "outputs": [
    {
     "name": "stdout",
     "output_type": "stream",
     "text": [
      "Qual o exercício realizado? bICIcleta\n",
      "Por quantos tempo (minutos) o exercício foi realizado? 5\n",
      "A média de calorias gasta é de 40.0kcal\n"
     ]
    }
   ],
   "source": [
    "#Trabalho 1 de estrutura de dadoos\n",
    "#Exercício 1\n",
    "\n",
    "class Calorias:\n",
    "    def __init__(self, exercicio, tempo):\n",
    "        self.exercicio = exercicio\n",
    "        self.tempo = tempo\n",
    "\n",
    "    def calcula_calorias(self):\n",
    "        if self.exercicio == 'Bicicleta':\n",
    "            media = 8 * self.tempo\n",
    "            return f'A média de calorias gasta é de {media}kcal'\n",
    "        elif self.exercicio == 'Corrida':\n",
    "            media = 11 * self.tempo\n",
    "            return f'A média de calorias gasta é de {media}kcal'\n",
    "        elif self.exercicio == 'Caminhada':\n",
    "            media = 6 * self.tempo\n",
    "            return f'A média de calorias gasta é de {media}kcal'\n",
    "        elif self.exercicio == 'Natação':\n",
    "            media = 10 * self.tempo\n",
    "            return f'A média de calorias gasta é de {media}kcal'\n",
    "        else:\n",
    "            return 'Esporte inválido, por favor insira um destes: Bicicleta, Natação, Caminhada ou Corrida'\n",
    "\n",
    "exercicio = input('Qual o exercício realizado? ').title().strip()\n",
    "tempo = float(input('Por quantos tempo (minutos) o exercício foi realizado? '))\n",
    "calc = Calorias(exercicio, tempo)\n",
    "print(calc.calcula_calorias())"
   ]
  },
  {
   "cell_type": "code",
   "execution_count": 56,
   "id": "eb9e688c",
   "metadata": {},
   "outputs": [
    {
     "data": {
      "text/plain": [
       "'A letra <built-in method upper of str object at 0x00000284F2A99EB0> é consoante'"
      ]
     },
     "execution_count": 56,
     "metadata": {},
     "output_type": "execute_result"
    }
   ],
   "source": [
    "#Exercício 2\n",
    "class ChecaVogal:\n",
    "    def __init__(self, letra):\n",
    "        self.letra = letra\n",
    "\n",
    "    def isVogal(self):\n",
    "        vogais = ['A', 'E', 'I', 'O', 'U']\n",
    "        if self.letra in vogais:\n",
    "            return f'A letra {self.letra} é vogal'\n",
    "        return f'A letra {self.letra} é consoante'\n",
    "\n",
    "\n",
    "a = input('Insira uma letra para saber se ela é vogal ou consoante: ')\n",
    "if len(a) != 1:\n",
    "    print('Caractere inválido, insira um único caractere')\n",
    "else:\n",
    "    maiusculo = a.upper()\n",
    "    func = ChecaVogal(maiusculo)\n",
    "    print(func.isVogal())"
   ]
  }
 ],
 "metadata": {
  "kernelspec": {
   "display_name": "Python 3 (ipykernel)",
   "language": "python",
   "name": "python3"
  },
  "language_info": {
   "codemirror_mode": {
    "name": "ipython",
    "version": 3
   },
   "file_extension": ".py",
   "mimetype": "text/x-python",
   "name": "python",
   "nbconvert_exporter": "python",
   "pygments_lexer": "ipython3",
   "version": "3.10.9"
  }
 },
 "nbformat": 4,
 "nbformat_minor": 5
}
