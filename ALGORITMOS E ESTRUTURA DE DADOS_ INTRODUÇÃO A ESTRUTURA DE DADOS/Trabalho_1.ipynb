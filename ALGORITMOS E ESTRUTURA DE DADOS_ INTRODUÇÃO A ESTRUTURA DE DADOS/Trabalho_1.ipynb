{
 "cells": [
  {
   "cell_type": "raw",
   "id": "bc107c9a",
   "metadata": {},
   "source": [
    "Alunos: \n",
    "Gabriel Matheus Aguilera Silva\n",
    "Rafael Yuki Tobaru\n",
    "Samuel Pereira Cunha"
   ]
  },
  {
   "cell_type": "raw",
   "id": "3c463cf2",
   "metadata": {},
   "source": [
    "1) Faça um programa que o usuário entre com o tipo de exercício físico realizado e a quantidade de tempo\n",
    "realizada e receba a quantidade média de quilocalorias gasta. (Tipos de exercício físico: Corrida, caminhada,\n",
    "natação, bicicleta.)\n",
    "Passos:\n",
    "1 - Realize uma pesquisa que dê as informações necessárias para realização desse exercício.\n",
    "2 - Após realizar a pesquisa, crie uma função que calcule a quantidade de quilocalorias gasta em função do\n",
    "tempo (horas, minutos)"
   ]
  },
  {
   "cell_type": "code",
   "execution_count": 2,
   "id": "bd55a8ec",
   "metadata": {},
   "outputs": [
    {
     "name": "stdout",
     "output_type": "stream",
     "text": [
      "Qual o exercício realizado? Corrida\n",
      "Por quantos tempo (minutos) o exercício foi realizado? 50\n",
      "A média de calorias gasta é de 550.0kcal\n"
     ]
    }
   ],
   "source": [
    "def calcula_calorias(exercicio, tempo):\n",
    "    if exercicio == 'Bicicleta':\n",
    "        media = 8 * tempo\n",
    "        return f'A média de calorias gasta é de {media}kcal'\n",
    "    elif exercicio == 'Corrida':\n",
    "        media = 11 * tempo\n",
    "        return f'A média de calorias gasta é de {media}kcal'\n",
    "    elif exercicio == 'Caminhada':\n",
    "        media = 6 * tempo\n",
    "        return f'A média de calorias gasta é de {media}kcal'\n",
    "    elif exercicio == 'Natação':\n",
    "        media = 10 * tempo\n",
    "        return f'A média de calorias gasta é de {media}kcal'\n",
    "    else:\n",
    "        return 'Esporte inválido, por favor insira um destes: Bicicleta, Natação, Caminhada ou Corrida'\n",
    "\n",
    "exercicio = input('Qual o exercício realizado? ').title().strip()\n",
    "tempo = float(input('Por quantos tempo (minutos) o exercício foi realizado? '))\n",
    "calc = calcula_calorias(exercicio, tempo)\n",
    "print(calc)"
   ]
  },
  {
   "cell_type": "raw",
   "id": "91f162e1",
   "metadata": {},
   "source": [
    "2) Faça um programa que verifique se uma letra digitada é vogal ou consoante."
   ]
  },
  {
   "cell_type": "code",
   "execution_count": 3,
   "id": "441ae8d3",
   "metadata": {},
   "outputs": [
    {
     "name": "stdout",
     "output_type": "stream",
     "text": [
      "Insira uma letra para saber se ela é vogal ou consoante: A\n",
      "A letra A é vogal\n"
     ]
    }
   ],
   "source": [
    "def isVogal(letra):\n",
    "    vogais = ['A', 'E', 'I', 'O', 'U']\n",
    "    if letra in vogais:\n",
    "        return f'A letra {letra} é vogal'\n",
    "    return f'A letra {letra} é consoante'\n",
    "\n",
    "a = input('Insira uma letra para saber se ela é vogal ou consoante: ')\n",
    "if len(a) != 1:\n",
    "    print('Inserção inválida, insira um único caractere')\n",
    "else:\n",
    "    maiusculo = a.upper()\n",
    "    if maiusculo.isalpha():\n",
    "        c = isVogal(maiusculo)\n",
    "        print(c)\n",
    "    else:\n",
    "        print('Não são permitidos outros caracteres, insira apenas letras')"
   ]
  },
  {
   "cell_type": "raw",
   "id": "4a9f32a3",
   "metadata": {},
   "source": [
    "3) Faça um programa que percorra a lista L = [1, 2, 3, 1, 1, 2 , 1, 0, 0, 2] e retorne as posições da lista em que\n",
    "ele aparece."
   ]
  },
  {
   "cell_type": "code",
   "execution_count": 4,
   "id": "afa1590f",
   "metadata": {},
   "outputs": [
    {
     "name": "stdout",
     "output_type": "stream",
     "text": [
      "O elemento 1 aparece nas posições: [0, 3, 4, 6]\n"
     ]
    }
   ],
   "source": [
    "def Percorre_lista(l, elemeto):\n",
    "    posicoes = []\n",
    "    for i in range(len(l)):\n",
    "        if l[i] == elemento:\n",
    "            posicoes.append(i)\n",
    "    return posicoes\n",
    "\n",
    "l = [1,2,3,1,1,2,1,0,0,2]\n",
    "elemento = 1\n",
    "\n",
    "posicoes = Percorre_lista(l, elemento)\n",
    "\n",
    "print(f\"O elemento {elemento} aparece nas posições: {posicoes}\")"
   ]
  },
  {
   "cell_type": "raw",
   "id": "02a9ad31",
   "metadata": {},
   "source": [
    "4) Faça um programa que leia um nome de usuário e a sua senha e não aceite a senha igual ao nome do usuário,\n",
    "mostrando uma mensagem de erro e voltando a pedir as informações."
   ]
  },
  {
   "cell_type": "code",
   "execution_count": 6,
   "id": "8d85cfcd",
   "metadata": {},
   "outputs": [
    {
     "name": "stdout",
     "output_type": "stream",
     "text": [
      "Digite o nome de usuário: Rafael\n",
      "Digite a senha: Rafael\n",
      "Erro: a senha não pode ser igual ao nome de usuário. Tente novamente.\n",
      "Digite o nome de usuário: Rafael\n",
      "Digite a senha: Senha123\n",
      "Nome de usuário e senha aceitos!\n"
     ]
    }
   ],
   "source": [
    "while True:\n",
    "    nome = input(\"Digite o nome de usuário: \")\n",
    "    senha = input(\"Digite a senha: \")\n",
    "\n",
    "    if senha != nome:\n",
    "        print(\"Nome de usuário e senha aceitos!\")\n",
    "        break\n",
    "    else:\n",
    "        print(\"Erro: a senha não pode ser igual ao nome de usuário. Tente novamente.\")"
   ]
  },
  {
   "cell_type": "raw",
   "id": "3979b7e5",
   "metadata": {},
   "source": [
    "5) Faça um programa que imprima na tela apenas os números ímpares entre 1 e 50."
   ]
  },
  {
   "cell_type": "code",
   "execution_count": 8,
   "id": "7811e09b",
   "metadata": {},
   "outputs": [
    {
     "name": "stdout",
     "output_type": "stream",
     "text": [
      "1 3 5 7 9 11 13 15 17 19 21 23 25 27 29 31 33 35 37 39 41 43 45 47 49 "
     ]
    }
   ],
   "source": [
    "for i in range(1, 51):\n",
    "    if i % 2 != 0:\n",
    "        print(i, end=\" \")"
   ]
  },
  {
   "cell_type": "raw",
   "id": "242649c3",
   "metadata": {},
   "source": [
    "6) Faça um programa com uma função chamada somaImposto. A função possui dois parâmetros formais:\n",
    "taxaImposto, que é a quantia de imposto sobre vendas expressa em porcentagem e custo, que é o custo de\n",
    "um item antes do imposto. A função “altera” o valor de custo para incluir o imposto sobre vendas."
   ]
  },
  {
   "cell_type": "code",
   "execution_count": 23,
   "id": "58d3e755",
   "metadata": {},
   "outputs": [
    {
     "name": "stdout",
     "output_type": "stream",
     "text": [
      "Informe o Valor do Produto: 100\n",
      "Informe a Porcentagem de Imposto: 20\n",
      "Produto R$100.00 com 20.00 % de Imposto: R$ 120.0\n"
     ]
    }
   ],
   "source": [
    "custo = float(input(\"Informe o Valor do Produto: \"))\n",
    "taxaImposto = float(input(\"Informe a Porcentagem de Imposto: \"))\n",
    "\n",
    "def somaImposto(taxaImposto, custo):\n",
    "    custo = custo * (1 + taxaImposto/100)\n",
    "    return custo\n",
    "\n",
    "print(\"Produto R$%.2f\" %custo,\"com %.2f\" %taxaImposto,\"% de Imposto: R$\", somaImposto(taxaImposto, custo))"
   ]
  },
  {
   "cell_type": "raw",
   "id": "46c8f26f",
   "metadata": {},
   "source": [
    "7) Defina a função somaNat que recebe como argumento um número natural n e devolve a soma de todos os\n",
    "números naturais até n. (Fazer isso utilizando uma função recursiva)."
   ]
  },
  {
   "cell_type": "code",
   "execution_count": 1,
   "id": "3e740548",
   "metadata": {},
   "outputs": [
    {
     "name": "stdout",
     "output_type": "stream",
     "text": [
      "Informe um Número Natural: 5\n",
      "15\n"
     ]
    }
   ],
   "source": [
    "n = int(input(\"Informe um Número Natural: \"))\n",
    "\n",
    "def somaNat(n):\n",
    "    if n == 0:\n",
    "        return 0\n",
    "    else:\n",
    "        return n + somaNat(n - 1)\n",
    "\n",
    "print(somaNat(n))"
   ]
  }
 ],
 "metadata": {
  "kernelspec": {
   "display_name": "Python 3 (ipykernel)",
   "language": "python",
   "name": "python3"
  },
  "language_info": {
   "codemirror_mode": {
    "name": "ipython",
    "version": 3
   },
   "file_extension": ".py",
   "mimetype": "text/x-python",
   "name": "python",
   "nbconvert_exporter": "python",
   "pygments_lexer": "ipython3",
   "version": "3.10.9"
  }
 },
 "nbformat": 4,
 "nbformat_minor": 5
}
